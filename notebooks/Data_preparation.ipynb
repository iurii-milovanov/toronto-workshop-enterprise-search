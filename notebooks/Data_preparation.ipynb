{
 "cells": [
  {
   "cell_type": "code",
   "execution_count": null,
   "metadata": {},
   "outputs": [],
   "source": [
    "!pip3 install -r ../backend/requirements.txt\n",
    "!pip3 install -U beautifulsoup4 wikipedia"
   ]
  },
  {
   "cell_type": "code",
   "execution_count": null,
   "metadata": {},
   "outputs": [],
   "source": [
    "import os\n",
    "import json\n",
    "\n",
    "from azure.core.credentials import AzureKeyCredential\n",
    "from azure.search.documents import SearchClient\n",
    "from azure.search.documents.indexes import SearchIndexClient\n",
    "from azure.search.documents.indexes.models import (\n",
    "    PrioritizedFields,\n",
    "    SearchableField,\n",
    "    SearchField,\n",
    "    SearchFieldDataType,\n",
    "    SearchIndex,\n",
    "    SemanticConfiguration,\n",
    "    SemanticField,\n",
    "    SemanticSettings,\n",
    "    SimpleField,\n",
    "    VectorSearch,\n",
    "    HnswVectorSearchAlgorithmConfiguration,\n",
    ")\n",
    "\n",
    "from langchain.chat_models import AzureChatOpenAI\n",
    "from langchain.embeddings import OpenAIEmbeddings\n",
    "from langchain.chains.summarize import load_summarize_chain\n",
    "from langchain.docstore.document import Document\n",
    "from langchain.text_splitter import RecursiveCharacterTextSplitter\n",
    "\n",
    "import wikipedia\n",
    "from bs4 import BeautifulSoup"
   ]
  },
  {
   "cell_type": "markdown",
   "metadata": {},
   "source": [
    "## Load data"
   ]
  },
  {
   "cell_type": "code",
   "execution_count": null,
   "metadata": {},
   "outputs": [],
   "source": [
    "with open(\"../data/softserve.json\", \"r\") as f:\n",
    "    website_data = json.load(f)\n"
   ]
  },
  {
   "cell_type": "code",
   "execution_count": null,
   "metadata": {},
   "outputs": [],
   "source": [
    "print(json.dumps(website_data[0], indent=4))"
   ]
  },
  {
   "cell_type": "markdown",
   "metadata": {},
   "source": [
    "## Initialize Cognitive Search"
   ]
  },
  {
   "cell_type": "code",
   "execution_count": null,
   "metadata": {},
   "outputs": [],
   "source": [
    "AZURE_SEARCH_SERVICE = os.getenv(\"AZURE_SEARCH_SERVICE\", \"ai-assistant-search\")\n",
    "AZURE_SEARCH_INDEX = os.getenv(\"AZURE_SEARCH_INDEX\", \"ai-assistant-idx\")\n",
    "\n",
    "# UPDATE THE VALUE BELOW TO YOUR COGNITIVE SEARCH ADMIN KEY\n",
    "COGNITIVE_SEARCH_API_KEY = os.getenv(\n",
    "    \"COGNITIVE_SEARCH_API_KEY\",\n",
    "    \"<FILL_IN_YOUR_COGNITIVE_SEARCH_API_KEY>\",\n",
    ")"
   ]
  },
  {
   "cell_type": "code",
   "execution_count": null,
   "metadata": {},
   "outputs": [],
   "source": [
    "azure_cognitive_search_embedding_key_credential = AzureKeyCredential(\n",
    "    COGNITIVE_SEARCH_API_KEY\n",
    ")\n",
    "embedding_index_client = SearchIndexClient(\n",
    "    endpoint=f\"https://{AZURE_SEARCH_SERVICE}.search.windows.net\",\n",
    "    credential=azure_cognitive_search_embedding_key_credential,\n",
    ")\n",
    "embedding_search_client = SearchClient(\n",
    "    endpoint=f\"https://{AZURE_SEARCH_SERVICE}.search.windows.net/\",\n",
    "    index_name=AZURE_SEARCH_INDEX,\n",
    "    credential=azure_cognitive_search_embedding_key_credential,\n",
    ")"
   ]
  },
  {
   "cell_type": "code",
   "execution_count": null,
   "metadata": {},
   "outputs": [],
   "source": [
    "if AZURE_SEARCH_INDEX not in embedding_index_client.list_index_names():\n",
    "    embedding_index = SearchIndex(\n",
    "        name=AZURE_SEARCH_INDEX,\n",
    "        fields=[\n",
    "            SimpleField(name=\"Id\", type=\"Edm.String\", key=True),\n",
    "            SearchableField(\n",
    "                name=\"Content\", type=\"Edm.String\", analyzer_name=\"en.microsoft\"\n",
    "            ),\n",
    "            SearchableField(\n",
    "                name=\"FileName\",\n",
    "                type=\"Edm.String\",\n",
    "                analyzer_name=\"en.microsoft\",\n",
    "            ),\n",
    "            SearchableField(\n",
    "                name=\"Summary\",\n",
    "                type=\"Edm.String\",\n",
    "                analyzer_name=\"en.microsoft\",\n",
    "            ),\n",
    "            SearchField(\n",
    "                name=\"content_embedding\",\n",
    "                type=SearchFieldDataType.Collection(\n",
    "                    SearchFieldDataType.Single\n",
    "                ),\n",
    "                hidden=False,\n",
    "                searchable=True,\n",
    "                filterable=False,\n",
    "                sortable=False,\n",
    "                facetable=False,\n",
    "                vector_search_dimensions=1536,\n",
    "                vector_search_configuration=\"default\",\n",
    "            ),\n",
    "            SearchField(\n",
    "                name=\"title_embedding\",\n",
    "                type=SearchFieldDataType.Collection(\n",
    "                    SearchFieldDataType.Single\n",
    "                ),\n",
    "                hidden=False,\n",
    "                searchable=True,\n",
    "                filterable=False,\n",
    "                sortable=False,\n",
    "                facetable=False,\n",
    "                vector_search_dimensions=1536,\n",
    "                vector_search_configuration=\"default\",\n",
    "            ),\n",
    "            SearchField(\n",
    "                name=\"summary_embedding\",\n",
    "                type=SearchFieldDataType.Collection(\n",
    "                    SearchFieldDataType.Single\n",
    "                ),\n",
    "                hidden=False,\n",
    "                searchable=True,\n",
    "                filterable=False,\n",
    "                sortable=False,\n",
    "                facetable=False,\n",
    "                vector_search_dimensions=1536,\n",
    "                vector_search_configuration=\"default\",\n",
    "            ),\n",
    "            SimpleField(\n",
    "                name=\"Published\",\n",
    "                type=SearchFieldDataType.DateTimeOffset,\n",
    "                facetable=True,\n",
    "                filterable=True,\n",
    "                sortable=True,\n",
    "            ),\n",
    "            SimpleField(\n",
    "                name=\"FileType\",\n",
    "                type=\"Edm.String\",\n",
    "                filterable=True,\n",
    "                facetable=True,\n",
    "            ),\n",
    "            SimpleField(\n",
    "                name=\"Category\",\n",
    "                type=\"Edm.String\",\n",
    "                filterable=True,\n",
    "                facetable=True,\n",
    "            ),\n",
    "            SimpleField(\n",
    "                name=\"LocationURL\",\n",
    "                type=\"Edm.String\",\n",
    "                filterable=True,\n",
    "                facetable=True,\n",
    "            ),\n",
    "            SimpleField(\n",
    "                name=\"Storage\",\n",
    "                type=\"Edm.String\",\n",
    "                filterable=True,\n",
    "                facetable=True,\n",
    "            ),\n",
    "        ],\n",
    "        semantic_settings=SemanticSettings(\n",
    "            configurations=[\n",
    "                SemanticConfiguration(\n",
    "                    name=\"default\",\n",
    "                    prioritized_fields=PrioritizedFields(\n",
    "                        title_field=SemanticField(field_name=\"FileName\"),\n",
    "                        prioritized_content_fields=[\n",
    "                            SemanticField(field_name=\"FileName\"),\n",
    "                            SemanticField(field_name=\"Content\"),\n",
    "                            SemanticField(field_name=\"Summary\"),\n",
    "                        ],\n",
    "                    ),\n",
    "                )\n",
    "            ]\n",
    "        ),\n",
    "        vector_search=VectorSearch(\n",
    "            algorithm_configurations=[\n",
    "                HnswVectorSearchAlgorithmConfiguration(\n",
    "                    name=\"default\",\n",
    "                    kind=\"hnsw\",\n",
    "                    parameters={\"metric\": \"cosine\"},\n",
    "                )\n",
    "            ]\n",
    "        ),\n",
    "    )\n",
    "    embedding_index_client.create_index(embedding_index)"
   ]
  },
  {
   "cell_type": "markdown",
   "metadata": {},
   "source": [
    "## Initialize OpenAI"
   ]
  },
  {
   "cell_type": "code",
   "execution_count": null,
   "metadata": {},
   "outputs": [],
   "source": [
    "AZURE_OPENAI_SERVICE = os.getenv(\n",
    "    \"AZURE_OPENAI_SERVICE\", \"ai-assistant-gpt-4\"\n",
    ")\n",
    "# UPDATE THE VALUE BELOW TO YOUR OPENAI API KEY\n",
    "OPENAI_API_KEY = os.getenv(\n",
    "    \"OPENAI_API_KEY\", \"<FILL_IN_YOUR_OPENAI_API_KEY>\"\n",
    ")\n",
    "AZURE_OPENAI_CHATGPT_DEPLOYMENT = os.getenv(\n",
    "    \"AZURE_OPENAI_CHATGPT_DEPLOYMENT\", \"ai-assistant-gpt-35-16k\"\n",
    ")\n",
    "AZURE_OPENAI_CHATGPT_MODEL = os.getenv(\n",
    "    \"AZURE_OPENAI_CHATGPT_MODEL\", \"gpt-35-turbo-16k\"\n",
    ")\n",
    "AZURE_OPENAI_GPT4_DEPLOYMENT = os.getenv(\n",
    "    \"AZURE_OPENAI_GPT4_DEPLOYMENT\", \"ai-assistant-gpt-4\"\n",
    ")\n",
    "AZURE_OPENAI_GPT4_MODEL = os.getenv(\n",
    "    \"AZURE_OPENAI_GPT4_MODEL\",\n",
    "    \"gpt-4-32k\",\n",
    ")\n",
    "AZURE_OPENAI_EMB_DEPLOYMENT = os.getenv(\n",
    "    \"AZURE_OPENAI_EMB_DEPLOYMENT\", \"ai-assistant-ada\"\n",
    ")"
   ]
  },
  {
   "cell_type": "code",
   "execution_count": null,
   "metadata": {},
   "outputs": [],
   "source": [
    "llm_gpt35 = AzureChatOpenAI(\n",
    "    deployment_name=AZURE_OPENAI_CHATGPT_DEPLOYMENT,\n",
    "    model_name=AZURE_OPENAI_CHATGPT_MODEL,\n",
    ")\n",
    "llm_gpt4 = AzureChatOpenAI(\n",
    "    deployment_name=AZURE_OPENAI_GPT4_DEPLOYMENT,\n",
    "    model_name=AZURE_OPENAI_GPT4_MODEL,\n",
    ")\n",
    "\n",
    "summarize_chain = load_summarize_chain(llm_gpt4, chain_type=\"stuff\")\n",
    "\n",
    "embeddings_model = OpenAIEmbeddings(deployment=AZURE_OPENAI_EMB_DEPLOYMENT)"
   ]
  },
  {
   "cell_type": "code",
   "execution_count": null,
   "metadata": {},
   "outputs": [],
   "source": [
    "def embed_query(query_text):\n",
    "    return embeddings_model.embed_query(query_text)"
   ]
  },
  {
   "cell_type": "code",
   "execution_count": null,
   "metadata": {},
   "outputs": [],
   "source": [
    "content = website_data[0][\"content\"]\n",
    "\n",
    "query_vector = embed_query(content)\n",
    "len(query_vector)"
   ]
  },
  {
   "cell_type": "code",
   "execution_count": null,
   "metadata": {},
   "outputs": [],
   "source": [
    "summarize_chain.run([Document(page_content=content)])"
   ]
  },
  {
   "cell_type": "markdown",
   "metadata": {},
   "source": [
    "## Index content using OpenAI embeddings"
   ]
  },
  {
   "cell_type": "code",
   "execution_count": null,
   "metadata": {},
   "outputs": [],
   "source": [
    "text_splitter = RecursiveCharacterTextSplitter(\n",
    "    chunk_size=2000,\n",
    "    chunk_overlap=0,\n",
    ")"
   ]
  },
  {
   "cell_type": "code",
   "execution_count": null,
   "metadata": {},
   "outputs": [],
   "source": [
    "count = 0\n",
    "batch = []\n",
    "for res in search_results:\n",
    "    count += 1\n",
    "    title_embedding = embed_query(res[\"FileName\"])\n",
    "    doc = [Document(page_content=res[\"content\"])]\n",
    "    splitted_doc = text_splitter.split_documents(doc)\n",
    "    for i, page in enumerate(splitted_doc):\n",
    "        content = page.page_content\n",
    "        content_embedding = embed_query(content)\n",
    "        try:\n",
    "            summary = summarize_chain.run([Document(page_content=content)])\n",
    "        except Exception as e:\n",
    "            print(e)\n",
    "            summary = \"\"\n",
    "        summary_embedding = embed_query(summary)\n",
    "        section = {\n",
    "            \"Id\": f\"{res['id']}-page-{i}\",\n",
    "            \"Content\": content,\n",
    "            \"LocationURL\": res[\"LocationURL\"],\n",
    "            \"Published\": res[\"Published\"],\n",
    "            \"FileName\": res[\"FileName\"],\n",
    "            \"FileType\": res[\"FileType\"],\n",
    "            \"Category\": res[\"Category\"],\n",
    "            \"Storage\": res[\"Storage\"],\n",
    "            \"Summary\": summary,\n",
    "            \"content_embedding\": content_embedding,\n",
    "            \"title_embedding\": title_embedding,\n",
    "            \"summary_embedding\": summary_embedding,\n",
    "        }\n",
    "        batch.append(section)\n",
    "        if len(batch) % 100 == 0:\n",
    "            results = embedding_search_client.upload_documents(documents=batch)\n",
    "            succeeded = sum([1 for r in results if r.succeeded])\n",
    "            print(f\"\\tIndexed {len(results)} sections, {succeeded} succeeded\")\n",
    "            batch = []\n",
    "    if count % 10 == 0:\n",
    "        print(f\"Processed {count} documents\")\n",
    "if len(batch) > 0:\n",
    "    results = embedding_search_client.upload_documents(documents=batch)\n",
    "    succeeded = sum([1 for r in results if r.succeeded])\n",
    "    print(f\"\\tIndexed {len(results)} sections, {succeeded} succeeded\")"
   ]
  },
  {
   "cell_type": "markdown",
   "metadata": {},
   "source": [
    "## Index Wikipedia Page"
   ]
  },
  {
   "cell_type": "code",
   "execution_count": null,
   "metadata": {},
   "outputs": [],
   "source": [
    "def strip_html_tags(html):\n",
    "    soup = BeautifulSoup(html, \"html.parser\")\n",
    "    stripped_text = soup.get_text()\n",
    "    return stripped_text"
   ]
  },
  {
   "cell_type": "code",
   "execution_count": null,
   "metadata": {},
   "outputs": [],
   "source": [
    "wiki_page = wikipedia.page(\"SoftServe company\").html()\n",
    "stripped_wiki_page = strip_html_tags(wiki_page)"
   ]
  },
  {
   "cell_type": "code",
   "execution_count": null,
   "metadata": {},
   "outputs": [],
   "source": [
    "text_splitter = RecursiveCharacterTextSplitter(\n",
    "    chunk_size=1000, chunk_overlap=700\n",
    ")"
   ]
  },
  {
   "cell_type": "code",
   "execution_count": null,
   "metadata": {},
   "outputs": [],
   "source": [
    "batch = []\n",
    "\n",
    "title_embedding = embed_query(\"About SoftServe\")\n",
    "\n",
    "splitted_doc = text_splitter.split_documents(\n",
    "    [Document(page_content=stripped_wiki_page)]\n",
    ")\n",
    "for i, page in enumerate(splitted_doc):\n",
    "    content = page.page_content\n",
    "    content_embedding = embed_query(content)\n",
    "    summary = summarize_chain.run([Document(page_content=content)])\n",
    "    try:\n",
    "        summary = summarize_chain.run([Document(page_content=content)])\n",
    "    except Exception as e:\n",
    "        print(e)\n",
    "        summary = \"\"\n",
    "    summary_embedding = embed_query(summary)\n",
    "    section = {\n",
    "        \"Id\": f\"Wiki-page-{i}\",\n",
    "        \"Content\": content,\n",
    "        \"LocationURL\": \"https://en.wikipedia.org/wiki/SoftServe\",\n",
    "        \"FileType\": \".html\",\n",
    "        \"Storage\": \"Wikipedia\",\n",
    "        \"FileName\": \"Wikipedia\",\n",
    "        \"Summary\": summary,\n",
    "        \"content_embedding\": content_embedding,\n",
    "        \"title_embedding\": title_embedding,\n",
    "        \"summary_embedding\": summary_embedding,\n",
    "    }\n",
    "    batch.append(section)\n",
    "    if len(batch) % 100 == 0:\n",
    "        results = embedding_search_client.upload_documents(documents=batch)\n",
    "        succeeded = sum([1 for r in results if r.succeeded])\n",
    "        print(f\"\\tIndexed {len(results)} sections, {succeeded} succeeded\")\n",
    "        batch = []\n",
    "if len(batch) > 0:\n",
    "    results = embedding_search_client.upload_documents(documents=batch)\n",
    "    succeeded = sum([1 for r in results if r.succeeded])\n",
    "    print(f\"\\tIndexed {len(results)} sections, {succeeded} succeeded\")"
   ]
  },
  {
   "cell_type": "code",
   "execution_count": null,
   "metadata": {},
   "outputs": [],
   "source": []
  }
 ],
 "metadata": {
  "kernelspec": {
   "display_name": "Python 3",
   "language": "python",
   "name": "python3"
  },
  "language_info": {
   "codemirror_mode": {
    "name": "ipython",
    "version": 3
   },
   "file_extension": ".py",
   "mimetype": "text/x-python",
   "name": "python",
   "nbconvert_exporter": "python",
   "pygments_lexer": "ipython3",
   "version": "3.11.5"
  },
  "orig_nbformat": 4
 },
 "nbformat": 4,
 "nbformat_minor": 2
}
